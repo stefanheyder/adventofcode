{
 "cells": [
  {
   "cell_type": "markdown",
   "metadata": {},
   "source": [
    "# 2024-12-10"
   ]
  },
  {
   "cell_type": "markdown",
   "metadata": {},
   "source": [
    "## Data"
   ]
  },
  {
   "cell_type": "code",
   "execution_count": null,
   "metadata": {},
   "outputs": [
    {
     "data": {
      "text/plain": [
       "8×8 Matrix{Int64}:\n",
       " 8  7  8  9  4  3  0  1\n",
       " 9  8  7  6  5  2  1  0\n",
       " 0  1  4  5  6  0  3  4\n",
       " 1  2  3  4  7  1  2  5\n",
       " 0  1  0  9  8  9  9  6\n",
       " 1  8  9  8  9  0  8  7\n",
       " 2  7  6  7  0  1  0  3\n",
       " 3  4  5  4  3  2  1  2"
      ]
     },
     "metadata": {},
     "output_type": "display_data"
    }
   ],
   "source": [
    "test = \"89010123\n",
    "78121874\n",
    "87430965\n",
    "96549874\n",
    "45678903\n",
    "32019012\n",
    "01329801\n",
    "10456732\"\n",
    "mat = hcat([parse.(Int, collect(line)) for line in split(test, \"\\n\")]...)"
   ]
  },
  {
   "cell_type": "code",
   "execution_count": 57,
   "metadata": {},
   "outputs": [
    {
     "data": {
      "text/plain": [
       "55×55 Matrix{Int64}:\n",
       " 4  5  6  7  8  7  3  2  3  4  0  7  6  …  4  5  4  3  2  4  3  2  3  9  8  7\n",
       " 3  2  5  8  9  3  0  1  2  5  1  8  9     2  6  3  2  1  0  0  1  4  3  0  6\n",
       " 0  1  7  6  5  2  3  0  7  6  2  7  6     9  7  8  9  2  1  1  2  5  2  1  5\n",
       " 8  9  8  9  4  1  0  9  8  7  3  4  5     8  5  4  5  6  7  8  7  6  0  3  4\n",
       " 7  0  1  2  3  2  3  4  5  6  5  1  0     7  6  3  4  3  2  9  8  9  1  2  1\n",
       " 6  0  1  2  5  6  7  3  0  8  9  0  1  …  6  1  2  3  0  1  1  0  1  4  3  0\n",
       " 5  2  1  3  4  9  8  2  1  7  6  5  2     3  0  4  5  6  7  8  9  2  9  4  5\n",
       " 4  3  0  2  3  4  7  8  9  8  3  4  3     2  1  2  4  3  0  5  4  3  8  7  6\n",
       " 7  8  0  1  7  5  6  5  0  2  1  0  0     3  0  3  3  2  1  2  5  8  9  5  6\n",
       " 6  9  1  0  8  7  6  2  1  3  4  5  8     2  3  4  5  6  7  3  6  7  6  6  5\n",
       " ⋮              ⋮              ⋮        ⋱        ⋮              ⋮           \n",
       " 4  7  8  7  7  6  5  4  3  2  3  1  2     1  2  1  0  9  2  1  0  0  1  2  3\n",
       " 5  6  7  7  6  5  7  8  9  8  9  0  3     0  9  2  9  8  3  2  7  8  9  3  2\n",
       " 4  7  9  8  3  4  6  5  0  7  6  5  4     7  8  3  4  7  4  5  6  9  8  2  1\n",
       " 3  8  2  1  2  3  4  4  1  8  9  4  3     6  5  4  5  6  3  2  1  0  4  3  0\n",
       " 8  9  6  0  0  1  4  3  2  3  6  5  0  …  8  9  8  0  1  2  3  4  5  5  4  1\n",
       " 7  6  5  4  3  2  7  6  5  4  5  6  5     5  6  7  9  0  1  8  9  6  6  3  4\n",
       " 2  5  6  9  8  1  8  9  4  3  2  7  6     4  3  0  8  7  0  9  8  7  7  8  9\n",
       " 1  2  7  8  7  0  7  6  5  0  1  8  7     4  2  1  7  4  3  2  6  7  8  9  0\n",
       " 0  3  4  5  6  1  8  9  8  1  0  9  8     5  6  5  6  5  0  1  5  4  3  2  1"
      ]
     },
     "metadata": {},
     "output_type": "display_data"
    }
   ],
   "source": [
    "lines = open(\"../inputs/2024-12-10.txt\") do file\n",
    "    readlines(file)\n",
    "end\n",
    "mat = hcat([parse.(Int, collect(line)) for line in lines]...)"
   ]
  },
  {
   "cell_type": "markdown",
   "metadata": {},
   "source": [
    "## Part I"
   ]
  },
  {
   "cell_type": "code",
   "execution_count": null,
   "metadata": {},
   "outputs": [],
   "source": [
    "trailheads = findall(x -> x==0, mat)\n",
    "\n",
    "function recurse(coord,k)\n",
    "    if k == 9\n",
    "        return [coord]\n",
    "    end\n",
    "    positions = [\n",
    "        coord + CartesianIndex(0,1),\n",
    "        coord + CartesianIndex(0,-1),\n",
    "        coord + CartesianIndex(1,0),\n",
    "        coord + CartesianIndex(-1,0)\n",
    "    ]\n",
    "    valid_positions = [p for p in positions if checkbounds(Bool, mat, p) && (mat[p] == k + 1)]\n",
    "    if length(valid_positions) == 0\n",
    "        return []\n",
    "    end\n",
    "    return vcat(recurse.(valid_positions, Ref(k + 1))...)\n",
    "end\n",
    "\n",
    "sum(length.(unique.(recurse.(trailheads, Ref(0)))))\n"
   ]
  },
  {
   "cell_type": "markdown",
   "metadata": {},
   "source": [
    "## Part II"
   ]
  },
  {
   "cell_type": "code",
   "execution_count": null,
   "metadata": {},
   "outputs": [
    {
     "data": {
      "text/plain": [
       "1436"
      ]
     },
     "metadata": {},
     "output_type": "display_data"
    }
   ],
   "source": [
    "trailheads = findall(x -> x==0, mat)\n",
    "\n",
    "function recurse(coord,k)\n",
    "    if k == 9\n",
    "        return 1\n",
    "    end\n",
    "    positions = [\n",
    "        coord + CartesianIndex(0,1),\n",
    "        coord + CartesianIndex(0,-1),\n",
    "        coord + CartesianIndex(1,0),\n",
    "        coord + CartesianIndex(-1,0)\n",
    "    ]\n",
    "    valid_positions = [p for p in positions if checkbounds(Bool, mat, p) && mat[p] == k + 1]\n",
    "    if length(valid_positions) == 0\n",
    "        return 0\n",
    "    end\n",
    "    return sum(recurse.(valid_positions, Ref(k + 1)))\n",
    "end\n",
    "\n",
    "sum(recurse.(trailheads, Ref(0)))"
   ]
  }
 ],
 "metadata": {
  "kernelspec": {
   "display_name": "Julia 1.11.1",
   "language": "julia",
   "name": "julia-1.11"
  },
  "language_info": {
   "file_extension": ".jl",
   "mimetype": "application/julia",
   "name": "julia",
   "version": "1.11.1"
  }
 },
 "nbformat": 4,
 "nbformat_minor": 2
}
