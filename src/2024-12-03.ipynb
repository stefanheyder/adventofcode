{
 "cells": [
  {
   "cell_type": "markdown",
   "metadata": {},
   "source": [
    "# 2024-12-03"
   ]
  },
  {
   "cell_type": "markdown",
   "metadata": {},
   "source": [
    "## Part I"
   ]
  },
  {
   "cell_type": "code",
   "execution_count": 22,
   "metadata": {},
   "outputs": [
    {
     "data": {
      "text/plain": [
       "175700056"
      ]
     },
     "metadata": {},
     "output_type": "display_data"
    }
   ],
   "source": [
    "left = Vector{Int}()\n",
    "right = Vector{Int}()\n",
    "pattern = r\"mul\\((\\d{1,3}),(\\d{1,3})\\)\"\n",
    "open(\"../inputs/2024-12-03.txt\", \"r\") do file\n",
    "    for line in eachline(file)\n",
    "        matches = eachmatch(pattern, line)\n",
    "        append!(left, [parse(Int, m.captures[1]) for m in matches])\n",
    "        append!(right, [parse(Int, m.captures[2]) for m in matches])\n",
    "\tend\n",
    "end\n",
    "\n",
    "sum([l * r for (l, r) in zip(left, right)])"
   ]
  },
  {
   "cell_type": "markdown",
   "metadata": {},
   "source": [
    "## Part II"
   ]
  },
  {
   "cell_type": "code",
   "execution_count": null,
   "metadata": {},
   "outputs": [
    {
     "data": {
      "text/plain": [
       "71668682"
      ]
     },
     "metadata": {},
     "output_type": "display_data"
    }
   ],
   "source": [
    "pattern = r\"mul\\((\\d{1,3}),(\\d{1,3})\\)\"\n",
    "content = open(\"../inputs/2024-12-03.txt\", \"r\") do file\n",
    "    read(file, String)\n",
    "end\n",
    "\n",
    "trigger_pattern = r\"do\\(\\)|don't\\(\\)\"\n",
    "indicators = [ m.match == \"do()\" ? 1 : 0 for m in eachmatch(trigger_pattern, content)]\n",
    "pushfirst!(indicators, 1)\n",
    "\n",
    "left = Vector{Int}()\n",
    "right = Vector{Int}()\n",
    "\n",
    "for (ind, part) in zip(indicators, split(content, trigger_pattern))\n",
    "    if ind == 0\n",
    "        continue\n",
    "    end\n",
    "    matches = eachmatch(pattern, part)\n",
    "    append!(left, [parse(Int, m.captures[1]) for m in matches])\n",
    "    append!(right, [parse(Int, m.captures[2]) for m in matches])\n",
    "end\n",
    "sum([l * r for (l,r) in zip(left, right)])"
   ]
  }
 ],
 "metadata": {
  "kernelspec": {
   "display_name": "Julia 1.11.1",
   "language": "julia",
   "name": "julia-1.11"
  },
  "language_info": {
   "file_extension": ".jl",
   "mimetype": "application/julia",
   "name": "julia",
   "version": "1.11.1"
  }
 },
 "nbformat": 4,
 "nbformat_minor": 2
}
