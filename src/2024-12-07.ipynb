{
 "cells": [
  {
   "cell_type": "markdown",
   "metadata": {},
   "source": [
    "# 2024-12-07\n"
   ]
  },
  {
   "cell_type": "markdown",
   "metadata": {},
   "source": [
    "## Data"
   ]
  },
  {
   "cell_type": "code",
   "execution_count": null,
   "metadata": {},
   "outputs": [],
   "source": [
    "totals = []\n",
    "components = []\n",
    "open(\"../inputs/2024-12-07.txt\", \"r\") do file\n",
    "    for line in eachline(file)\n",
    "        total, rhs = split(line, \": \")\n",
    "        push!(totals, parse(Int, total))\n",
    "        push!(components, parse.(Ref(Int), split(rhs, \" \")))\n",
    "\tend\n",
    "end"
   ]
  },
  {
   "cell_type": "markdown",
   "metadata": {},
   "source": [
    "## Part I"
   ]
  },
  {
   "cell_type": "code",
   "execution_count": null,
   "metadata": {},
   "outputs": [
    {
     "data": {
      "text/plain": [
       "4122618559853"
      ]
     },
     "metadata": {},
     "output_type": "display_data"
    }
   ],
   "source": [
    "using IterTools\n",
    "function representable_2ops(total, comps) \n",
    "    n = length(comps)\n",
    "    choices = hcat([collect(v) for v in product(fill(0:1, n-1)...)]...)\n",
    "    for col in eachcol(choices)\n",
    "        result = comps[1]\n",
    "        for (op, num) in zip(col, comps[2:n])\n",
    "            result = op == 1 ? result + num : result * num\n",
    "            if result > total\n",
    "                continue\n",
    "            end\n",
    "        end\n",
    "        if result == total\n",
    "            return true\n",
    "        end\n",
    "    end\n",
    "    return false\n",
    "end\n",
    "\n",
    "sum([t for (t,c) in zip(totals, components) if representable_2ops(t, c)])"
   ]
  },
  {
   "cell_type": "markdown",
   "metadata": {},
   "source": [
    "## Part II"
   ]
  },
  {
   "cell_type": "code",
   "execution_count": null,
   "metadata": {},
   "outputs": [
    {
     "data": {
      "text/plain": [
       "101665528828422"
      ]
     },
     "metadata": {},
     "output_type": "display_data"
    }
   ],
   "source": [
    "function representable_3ops(total, comps) \n",
    "    n = length(comps)\n",
    "    choices = hcat([collect(v) for v in product(fill(0:2, n-1)...)]...)\n",
    "    for col in eachcol(choices)\n",
    "        result = comps[1]\n",
    "        for (op, num) in zip(col, comps[2:n])\n",
    "            result = op == 1 ? result + num : (op == 2 ? result * num : result * 10 ^ (ceil(log10(num))) + num)\n",
    "            if result > total\n",
    "                continue\n",
    "            end\n",
    "        end\n",
    "        if result == total\n",
    "            return true\n",
    "        end            \n",
    "    end\n",
    "    return false\n",
    "end\n",
    "\n",
    "sum([t for (t,c) in zip(totals, components) if representable_3ops(t, c)])"
   ]
  }
 ],
 "metadata": {
  "kernelspec": {
   "display_name": "Julia 1.11.1",
   "language": "julia",
   "name": "julia-1.11"
  },
  "language_info": {
   "file_extension": ".jl",
   "mimetype": "application/julia",
   "name": "julia",
   "version": "1.11.1"
  }
 },
 "nbformat": 4,
 "nbformat_minor": 2
}
