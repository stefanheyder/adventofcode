{
 "cells": [
  {
   "cell_type": "markdown",
   "metadata": {},
   "source": [
    "# 2024-12-06\n",
    "\n",
    "## Data"
   ]
  },
  {
   "cell_type": "code",
   "execution_count": 1,
   "metadata": {},
   "outputs": [],
   "source": [
    "arr = []\n",
    "open(\"../inputs/2024-12-06.txt\", \"r\") do file\n",
    "    for line in eachline(file)\n",
    "        chars = split(line, r\"\")\n",
    "        push!(arr, String.(chars))\n",
    "\tend\n",
    "end\n",
    "\n",
    "n = length(arr)\n",
    "m = length(arr[1])\n",
    "mat = Matrix{String}(undef, n,m)\n",
    "\n",
    "for i in 1:n\n",
    "    for j in 1:m\n",
    "        mat[i,j] = arr[i][j]\n",
    "    end\n",
    "end"
   ]
  },
  {
   "cell_type": "markdown",
   "metadata": {},
   "source": [
    "## Part I"
   ]
  },
  {
   "cell_type": "code",
   "execution_count": 2,
   "metadata": {},
   "outputs": [
    {
     "ename": "UndefVarError",
     "evalue": "UndefVarError: `initial_position` not defined in `Main`\nSuggestion: check for spelling errors or missing imports.",
     "output_type": "error",
     "traceback": [
      "UndefVarError: `initial_position` not defined in `Main`\n",
      "Suggestion: check for spelling errors or missing imports.\n",
      "\n",
      "Stacktrace:\n",
      " [1] top-level scope\n",
      "   @ ~/workspace/work/tools/adventofcode/src/jl_notebook_cell_df34fa98e69747e1a8f8a730347b8e2f_X14sZmlsZQ==.jl:1"
     ]
    }
   ],
   "source": [
    "mat[ [initial_position[1], initial_position[2]] + [1,0] ]"
   ]
  },
  {
   "cell_type": "code",
   "execution_count": 61,
   "metadata": {},
   "outputs": [
    {
     "data": {
      "text/plain": [
       "steps_till_leave (generic function with 1 method)"
      ]
     },
     "metadata": {},
     "output_type": "display_data"
    }
   ],
   "source": [
    "function steps_till_leave(mat)\n",
    "    pos = findfirst(x -> x in [\"^\", \"v\", \"<\", \">\"], mat)\n",
    "    dir = Dict(\n",
    "        \"^\" => [-1, 0],\n",
    "        \"v\" => [1, 0],\n",
    "        \"<\" => [0, -1],\n",
    "        \">\" => [0, 1],\n",
    "    )[mat[pos]]\n",
    "    dir = CartesianIndex(dir...)\n",
    "    R = [\n",
    "        0 1;\n",
    "        -1 0\n",
    "    ]\n",
    "    visited = []\n",
    "    finished = false\n",
    "    while !finished\n",
    "        ray = [pos + j * dir for j in 1:n if checkbounds(Bool, mat, pos + j * dir)]\n",
    "        if length(ray) == 0\n",
    "            finished = true\n",
    "            continue\n",
    "        end\n",
    "        k = findfirst(x -> x == \"#\", mat[ray])\n",
    "        if k === nothing \n",
    "            finished = true\n",
    "            mat[ray] .= \"X\"\n",
    "            append!(visited, [(r, dir) for r in ray])\n",
    "            continue\n",
    "        end\n",
    "        if k > 1\n",
    "            pos = ray[k - 1]\n",
    "        end\n",
    "\n",
    "        dir = CartesianIndex((R * [dir[1], dir[2]])...)\n",
    "        if (pos, dir) in visited\n",
    "            return Inf\n",
    "        end\n",
    "        if k > 1\n",
    "            append!(visited, [(r, dir) for r in ray[1:(k-1)]])\n",
    "            mat[ray[1:(k-1)]] .= \"X\"\n",
    "        else\n",
    "            append!(visited, [(pos, dir)])\n",
    "        end\n",
    "    end\n",
    "    return count(x -> x == \"X\", mat) \n",
    "end"
   ]
  },
  {
   "cell_type": "code",
   "execution_count": 27,
   "metadata": {},
   "outputs": [
    {
     "data": {
      "text/plain": [
       "Inf"
      ]
     },
     "metadata": {},
     "output_type": "display_data"
    }
   ],
   "source": [
    "steps_till_leave([\n",
    "    \".\" \"#\" \"#\" \".\";\n",
    "    \"#\" \".\" \".\" \"#\";\n",
    "    \"#\" \"^\" \".\" \"#\";\n",
    "    \".\" \"#\" \"#\" \".\"\n",
    "])"
   ]
  },
  {
   "cell_type": "code",
   "execution_count": 28,
   "metadata": {},
   "outputs": [
    {
     "data": {
      "text/plain": [
       "4752"
      ]
     },
     "metadata": {},
     "output_type": "display_data"
    }
   ],
   "source": [
    "steps_till_leave(copy(mat))"
   ]
  },
  {
   "cell_type": "markdown",
   "metadata": {},
   "source": [
    "## Part II"
   ]
  },
  {
   "cell_type": "code",
   "execution_count": 62,
   "metadata": {},
   "outputs": [
    {
     "data": {
      "text/plain": [
       "results_in_cycle (generic function with 1 method)"
      ]
     },
     "metadata": {},
     "output_type": "display_data"
    }
   ],
   "source": [
    "mat2 = copy(mat)\n",
    "pos = findfirst(x -> x in [\"^\", \"v\", \"<\", \">\"], mat2)\n",
    "\n",
    "dir = Dict(\n",
    "    \"^\" => [-1, 0],\n",
    "    \"v\" => [1, 0],\n",
    "    \"<\" => [0, -1],\n",
    "    \">\" => [0, 1],\n",
    ")[mat2[pos]]\n",
    "dir = CartesianIndex(dir...)\n",
    "R = [\n",
    "    0 1;\n",
    "    -1 0\n",
    "]\n",
    "visited = []\n",
    "finished = false\n",
    "while !finished\n",
    "    ray = [pos + j * dir for j in 1:n if checkbounds(Bool, mat2, pos + j * dir)]\n",
    "    k = findfirst(x -> x == \"#\", mat2[ray])\n",
    "    if k === nothing\n",
    "        finished = true\n",
    "        mat2[ray] .= \"X\"\n",
    "        continue\n",
    "    end\n",
    "    pos = ray[k - 1]\n",
    "    dir = CartesianIndex((R * [dir[1], dir[2]])...)\n",
    "    append!(visited, [(r, dir) for r in ray[1:(k-1)]])\n",
    "    mat2[ray[1:(k-1)]] .= \"X\"\n",
    "end\n",
    "\n",
    "function results_in_cycle(pos, mat)\n",
    "    mat2 = copy(mat)\n",
    "    mat2[pos] = \"#\"\n",
    "    \n",
    "    return steps_till_leave(copy(mat2)) == Inf\n",
    "end\n"
   ]
  },
  {
   "cell_type": "code",
   "execution_count": null,
   "metadata": {},
   "outputs": [
    {
     "data": {
      "text/plain": [
       "1719"
      ]
     },
     "metadata": {},
     "output_type": "display_data"
    }
   ],
   "source": [
    "# I don't know what goes wrong at 3302\n",
    "sum([\n",
    "    results_in_cycle(ind, copy(mat)) for ind in findall(x -> x == \"X\", mat2)[[i for i in 1:length(findall(x -> x == \"X\", mat2)) if i!=3302]]\n",
    "])"
   ]
  },
  {
   "cell_type": "code",
   "execution_count": null,
   "metadata": {},
   "outputs": [],
   "source": []
  }
 ],
 "metadata": {
  "kernelspec": {
   "display_name": "Julia 1.11.1",
   "language": "julia",
   "name": "julia-1.11"
  },
  "language_info": {
   "file_extension": ".jl",
   "mimetype": "application/julia",
   "name": "julia",
   "version": "1.11.1"
  }
 },
 "nbformat": 4,
 "nbformat_minor": 2
}
