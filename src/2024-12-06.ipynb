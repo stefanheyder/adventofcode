{
 "cells": [
  {
   "cell_type": "markdown",
   "metadata": {},
   "source": [
    "# 2024-12-06\n",
    "\n",
    "## Data"
   ]
  },
  {
   "cell_type": "code",
   "execution_count": 65,
   "metadata": {},
   "outputs": [],
   "source": [
    "arr = []\n",
    "open(\"../inputs/2024-12-06.txt\", \"r\") do file\n",
    "    for line in eachline(file)\n",
    "        chars = split(line, r\"\")\n",
    "        push!(arr, String.(chars))\n",
    "\tend\n",
    "end\n",
    "\n",
    "n = length(arr)\n",
    "m = length(arr[1])\n",
    "mat = Matrix{String}(undef, n,m)\n",
    "\n",
    "for i in 1:n\n",
    "    for j in 1:m\n",
    "        mat[i,j] = arr[i][j]\n",
    "    end\n",
    "end"
   ]
  },
  {
   "cell_type": "markdown",
   "metadata": {},
   "source": [
    "## Part I"
   ]
  },
  {
   "cell_type": "code",
   "execution_count": 66,
   "metadata": {},
   "outputs": [
    {
     "data": {
      "text/plain": [
       "2-element Vector{String}:\n",
       " \".\"\n",
       " \".\""
      ]
     },
     "metadata": {},
     "output_type": "display_data"
    }
   ],
   "source": [
    "mat[ [initial_position[1], initial_position[2]] + [1,0] ]"
   ]
  },
  {
   "cell_type": "code",
   "execution_count": 67,
   "metadata": {},
   "outputs": [],
   "source": [
    "pos = findfirst(x -> x in [\"^\", \"v\", \"<\", \">\"], mat)\n",
    "dir = Dict(\n",
    "    \"^\" => [-1, 0],\n",
    "    \"v\" => [1, 0],\n",
    "    \"<\" => [0, -1],\n",
    "    \">\" => [0, 1],\n",
    ")[mat[pos]]\n",
    "dir = CartesianIndex(dir...)\n",
    "R = [\n",
    "    0 1;\n",
    "    -1 0\n",
    "]\n",
    "left_area = false\n",
    "while !left_area\n",
    "    ray = [pos + j * dir for j in 1:n if checkbounds(Bool, mat, pos + j * dir)]\n",
    "    k = findfirst(x -> x == \"#\", mat[ray])\n",
    "    if k === nothing\n",
    "        left_area = true\n",
    "        mat[ray] .= \"X\"\n",
    "        continue\n",
    "    end\n",
    "    pos = ray[k - 1]\n",
    "    dir = CartesianIndex((R * [dir[1], dir[2]])...)\n",
    "    mat[ray[1:(k-1)]] .= \"X\"\n",
    "end"
   ]
  },
  {
   "cell_type": "code",
   "execution_count": null,
   "metadata": {},
   "outputs": [
    {
     "data": {
      "text/plain": [
       "4753"
      ]
     },
     "metadata": {},
     "output_type": "display_data"
    }
   ],
   "source": [
    "count(x -> x == \"X\", mat) "
   ]
  },
  {
   "cell_type": "markdown",
   "metadata": {},
   "source": [
    "## Part II"
   ]
  }
 ],
 "metadata": {
  "kernelspec": {
   "display_name": "Julia 1.11.1",
   "language": "julia",
   "name": "julia-1.11"
  },
  "language_info": {
   "file_extension": ".jl",
   "mimetype": "application/julia",
   "name": "julia",
   "version": "1.11.1"
  }
 },
 "nbformat": 4,
 "nbformat_minor": 2
}
