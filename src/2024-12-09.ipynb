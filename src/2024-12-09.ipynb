{
 "cells": [
  {
   "cell_type": "markdown",
   "metadata": {},
   "source": [
    "# 2024-12-09"
   ]
  },
  {
   "cell_type": "markdown",
   "metadata": {},
   "source": [
    "## Data"
   ]
  },
  {
   "cell_type": "code",
   "execution_count": 133,
   "metadata": {},
   "outputs": [
    {
     "data": {
      "text/plain": [
       "Nothing"
      ]
     },
     "metadata": {},
     "output_type": "display_data"
    }
   ],
   "source": [
    "line = open(\"../inputs/2024-12-09.txt\", \"r\") do file\n",
    "    readlines(file)[1]\n",
    "end\n",
    "Nothing"
   ]
  },
  {
   "cell_type": "markdown",
   "metadata": {},
   "source": [
    "## Part I"
   ]
  },
  {
   "cell_type": "code",
   "execution_count": 134,
   "metadata": {},
   "outputs": [
    {
     "data": {
      "text/plain": [
       "6463499258318"
      ]
     },
     "metadata": {},
     "output_type": "display_data"
    }
   ],
   "source": [
    "entries = split(line * \"0\", \"\")\n",
    "files = [entries[i] for i in 1:2:length(entries)]\n",
    "free = [entries[i] for i in 2:2:length(entries)]\n",
    "ids = 0:(length(files) - 1)\n",
    "mem_map = []\n",
    "for (file, fr, id) in zip(files, free, ids)\n",
    "    append!(mem_map, fill(id, parse(Int, file)))\n",
    "    append!(mem_map, fill(-1, parse(Int, fr)))\n",
    "end\n",
    "\n",
    "left = 1\n",
    "right = length(mem_map) \n",
    "\n",
    "while left < right\n",
    "    while mem_map[right] == -1\n",
    "        right -= 1\n",
    "    end\n",
    "    if mem_map[left] == -1\n",
    "        mem_map[left] = mem_map[right]\n",
    "        mem_map[right] = 0\n",
    "        right -= 1\n",
    "    end\n",
    "    left += 1\n",
    "end\n",
    "mem_map .= ifelse.(mem_map .== -1, 0, mem_map)\n",
    "\n",
    "\n",
    "sum(mem_map .* (0:length(mem_map) - 1))"
   ]
  },
  {
   "cell_type": "markdown",
   "metadata": {},
   "source": [
    "## Part II"
   ]
  },
  {
   "cell_type": "code",
   "execution_count": 140,
   "metadata": {},
   "outputs": [],
   "source": [
    "entries = split(line * \"0\", \"\")\n",
    "files = parse.(Ref(Int), [entries[i] for i in 1:2:length(entries)])\n",
    "free = parse.(Ref(Int), [entries[i] for i in 2:2:length(entries)])\n",
    "ids = 0:(length(files) - 1)\n",
    "\n",
    "files = fill.(ids, files)\n",
    "free = fill.(Ref(0), free)\n",
    "moved = [[] for _ in files]\n",
    "nothing"
   ]
  },
  {
   "cell_type": "code",
   "execution_count": 136,
   "metadata": {},
   "outputs": [],
   "source": [
    "for right in length(files):-1:1\n",
    "    k = length(files[right])\n",
    "    first_free = findfirst(x -> length(x) >= k, free[1:(right-1)])\n",
    "    if first_free !== nothing\n",
    "        free[first_free] = free[first_free][(k + 1):end]\n",
    "        append!(moved[first_free], files[right])\n",
    "        files[right] = fill(0, k)\n",
    "    end\n",
    "end"
   ]
  },
  {
   "cell_type": "code",
   "execution_count": 137,
   "metadata": {},
   "outputs": [
    {
     "data": {
      "text/plain": [
       "6493634986625"
      ]
     },
     "metadata": {},
     "output_type": "display_data"
    }
   ],
   "source": [
    "mem_map = []\n",
    "for (file, mov, fr) in zip(files, moved, free)\n",
    "    append!(mem_map, file)\n",
    "    append!(mem_map, mov)\n",
    "    append!(mem_map, fr)\n",
    "end\n",
    "sum(mem_map .* (0:length(mem_map) - 1))"
   ]
  }
 ],
 "metadata": {
  "kernelspec": {
   "display_name": "Julia 1.11.1",
   "language": "julia",
   "name": "julia-1.11"
  },
  "language_info": {
   "file_extension": ".jl",
   "mimetype": "application/julia",
   "name": "julia",
   "version": "1.11.1"
  }
 },
 "nbformat": 4,
 "nbformat_minor": 2
}
