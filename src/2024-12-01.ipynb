{
 "cells": [
  {
   "cell_type": "markdown",
   "metadata": {},
   "source": [
    "## First part\n",
    "\n",
    "- _broadcasting_ (`.`)\n",
    "- _in-place-modification_ (`!`)"
   ]
  },
  {
   "cell_type": "code",
   "execution_count": null,
   "metadata": {},
   "outputs": [
    {
     "data": {
      "text/plain": [
       "1879048"
      ]
     },
     "metadata": {},
     "output_type": "display_data"
    }
   ],
   "source": [
    "left = Int[]\n",
    "right = Int[]\n",
    "\n",
    "open(\"../inputs/2024-12-01.txt\", \"r\") do file\n",
    "        for line in eachline(file)\n",
    "                parts = split(line, r\"\\s+\")\n",
    "                push!(left, parse(Int, parts[1]))\n",
    "                push!(right, parse(Int, parts[2]))\n",
    "\tend\n",
    "end\n",
    "\n",
    "sum(abs.(sort(left) - sort(right)))"
   ]
  },
  {
   "cell_type": "markdown",
   "metadata": {},
   "source": [
    "## Second part\n",
    "\n",
    "- _imports_ `using`, seem to load everything into namespace (like R)\n",
    "- _ternary operator_ `condition ? if_true : if_false`"
   ]
  },
  {
   "cell_type": "code",
   "execution_count": 11,
   "metadata": {},
   "outputs": [
    {
     "data": {
      "text/plain": [
       "21024792"
      ]
     },
     "metadata": {},
     "output_type": "display_data"
    }
   ],
   "source": [
    "using StatsBase\n",
    "\n",
    "right_counts = countmap(right)\n",
    "\n",
    "score = 0\n",
    "\n",
    "for left_element in left\n",
    "    multiplicator = haskey(right_counts, left_element) ? right_counts[left_element] : 0\n",
    "    score += multiplicator * left_element\n",
    "end\n",
    "score"
   ]
  }
 ],
 "metadata": {
  "kernelspec": {
   "display_name": "Julia 1.11.1",
   "language": "julia",
   "name": "julia-1.11"
  },
  "language_info": {
   "file_extension": ".jl",
   "mimetype": "application/julia",
   "name": "julia",
   "version": "1.11.1"
  }
 },
 "nbformat": 4,
 "nbformat_minor": 2
}
