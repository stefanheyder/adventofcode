{
 "cells": [
  {
   "cell_type": "code",
   "execution_count": 59,
   "metadata": {},
   "outputs": [
    {
     "name": "stdout",
     "output_type": "stream",
     "text": [
      "5991\n"
     ]
    }
   ],
   "source": [
    "constraints = []\n",
    "all_instructions = []\n",
    "\n",
    "function is_violated(instructions, constraints)\n",
    "    n = length(instructions)\n",
    "\n",
    "    paired_intstructions = [[instructions[i], instructions[j]] for i in 1:n for j in (i+1):n]\n",
    "    violated = any([any(x -> x[1] == c[2] && x[2] == c[1], paired_intstructions) for c in constraints])\n",
    "\n",
    "    return violated\n",
    "end\n",
    "\n",
    "open(\"../inputs/2024-12-05.txt\", \"r\") do file\n",
    "    middle_sum = 0\n",
    "    for line in eachline(file)\n",
    "        is_constraint = occursin(\"|\", line)\n",
    "        is_instruction = occursin(\",\", line)\n",
    "\n",
    "\n",
    "        if is_constraint\n",
    "            push!(constraints, parse.(Int, split(line, \"|\")))\n",
    "        end\n",
    "\n",
    "        if is_instruction\n",
    "            instructions = parse.(Int, split(line, \",\"))\n",
    "            push!(all_instructions, instructions)\n",
    "            if !is_violated(instructions, constraints)\n",
    "                middle_sum = middle_sum + instructions[Int((end + 1)/2)]\n",
    "            end\n",
    "        end\n",
    "\tend\n",
    "    println(middle_sum)\n",
    "end"
   ]
  },
  {
   "cell_type": "code",
   "execution_count": 60,
   "metadata": {},
   "outputs": [],
   "source": [
    "poset_dict = Dict()\n",
    "\n",
    "for (lower, upper) in constraints\n",
    "    if !haskey(poset_dict, upper)\n",
    "        poset_dict[upper] = []\n",
    "    end\n",
    "    push!(poset_dict[upper], lower)\n",
    "end"
   ]
  },
  {
   "cell_type": "code",
   "execution_count": 63,
   "metadata": {},
   "outputs": [
    {
     "data": {
      "text/plain": [
       "5479"
      ]
     },
     "metadata": {},
     "output_type": "display_data"
    }
   ],
   "source": [
    "function position(entry, instructions)\n",
    "    return length([val for val in poset_dict[entry] if val in instructions])\n",
    "end\n",
    "\n",
    "middle_sorted_sum = 0\n",
    "for instructions in all_instructions\n",
    "    if is_violated(instructions, constraints)\n",
    "        positions = position.(instructions, Ref(instructions))\n",
    "        middle_sorted_sum  += instructions[sortperm(positions)][Int((end + 1) / 2)]\n",
    "    end\n",
    "end\n",
    "middle_sorted_sum"
   ]
  }
 ],
 "metadata": {
  "kernelspec": {
   "display_name": "Julia 1.11.1",
   "language": "julia",
   "name": "julia-1.11"
  },
  "language_info": {
   "file_extension": ".jl",
   "mimetype": "application/julia",
   "name": "julia",
   "version": "1.11.1"
  }
 },
 "nbformat": 4,
 "nbformat_minor": 2
}
