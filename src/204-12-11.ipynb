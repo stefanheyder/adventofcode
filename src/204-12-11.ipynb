{
 "cells": [
  {
   "cell_type": "markdown",
   "metadata": {},
   "source": [
    "# 2024-12-11"
   ]
  },
  {
   "cell_type": "markdown",
   "metadata": {},
   "source": [
    "## Data"
   ]
  },
  {
   "cell_type": "code",
   "execution_count": 3,
   "metadata": {},
   "outputs": [
    {
     "data": {
      "text/plain": [
       "8-element Vector{Int64}:\n",
       " 1950139\n",
       "       0\n",
       "       3\n",
       "     837\n",
       "    6116\n",
       "   18472\n",
       "  228700\n",
       "      45"
      ]
     },
     "metadata": {},
     "output_type": "display_data"
    }
   ],
   "source": [
    "initial_stones = open(\"../inputs/2024-12-11.txt\") do file\n",
    "    [s for s in parse.(Ref(Int), split(readlines(file)[1], \" \"))]\n",
    "end"
   ]
  },
  {
   "cell_type": "markdown",
   "metadata": {},
   "source": [
    "## Part I"
   ]
  },
  {
   "cell_type": "code",
   "execution_count": 28,
   "metadata": {},
   "outputs": [
    {
     "data": {
      "text/plain": [
       "34"
      ]
     },
     "metadata": {},
     "output_type": "display_data"
    }
   ],
   "source": [
    "1234 % 100"
   ]
  },
  {
   "cell_type": "code",
   "execution_count": 32,
   "metadata": {},
   "outputs": [
    {
     "name": "stderr",
     "output_type": "stream",
     "text": [
      "\u001b[32m\u001b[1m    Updating\u001b[22m\u001b[39m registry at `~/.julia/registries/General.toml`\n",
      "\u001b[32m\u001b[1m   Resolving\u001b[22m\u001b[39m package versions...\n",
      "\u001b[32m\u001b[1m   Installed\u001b[22m\u001b[39m MacroTools ─ v0.5.13\n",
      "\u001b[32m\u001b[1m   Installed\u001b[22m\u001b[39m Memoize ──── v0.4.4\n",
      "\u001b[32m\u001b[1m    Updating\u001b[22m\u001b[39m `~/.julia/environments/v1.11/Project.toml`\n",
      "  \u001b[90m[c03570c3] \u001b[39m\u001b[92m+ Memoize v0.4.4\u001b[39m\n",
      "\u001b[32m\u001b[1m    Updating\u001b[22m\u001b[39m `~/.julia/environments/v1.11/Manifest.toml`\n",
      "  \u001b[90m[1914dd2f] \u001b[39m\u001b[92m+ MacroTools v0.5.13\u001b[39m\n",
      "  \u001b[90m[c03570c3] \u001b[39m\u001b[92m+ Memoize v0.4.4\u001b[39m\n",
      "\u001b[92m\u001b[1mPrecompiling\u001b[22m\u001b[39m project...\n",
      "   1253.0 ms\u001b[32m  ✓ \u001b[39m\u001b[90mMacroTools\u001b[39m\n",
      "    722.1 ms\u001b[32m  ✓ \u001b[39mMemoize\n",
      "  2 dependencies successfully precompiled in 3 seconds. 68 already precompiled.\n"
     ]
    }
   ],
   "source": [
    "using Pkg\n",
    "Pkg.add(\"Memoize\")"
   ]
  },
  {
   "cell_type": "code",
   "execution_count": null,
   "metadata": {},
   "outputs": [
    {
     "data": {
      "text/plain": [
       "blink (generic function with 1 method)"
      ]
     },
     "metadata": {},
     "output_type": "display_data"
    }
   ],
   "source": [
    "using Memoize\n",
    "\n",
    "@memoize function blink(stone::Int)::Vector{Int}\n",
    "    if stone == 0\n",
    "        return [1]\n",
    "    end\n",
    "    n_digits = floor(log10(stone)) + 1\n",
    "    has_even_digits =  n_digits % 2 == 0\n",
    "    if has_even_digits\n",
    "        right = stone % (10 ^ Int(n_digits/2))\n",
    "        left = Int((stone - right) / (10 ^ Int(n_digits/2)))\n",
    "        return [left, right]\n",
    "    end\n",
    "    return [ stone * 2024 ]\n",
    "end"
   ]
  },
  {
   "cell_type": "code",
   "execution_count": 34,
   "metadata": {},
   "outputs": [
    {
     "data": {
      "text/plain": [
       "9-element Vector{Int64}:\n",
       "  512\n",
       "   72\n",
       " 2024\n",
       "    2\n",
       "    0\n",
       "    2\n",
       "    4\n",
       " 2867\n",
       " 6032"
      ]
     },
     "metadata": {},
     "output_type": "display_data"
    }
   ],
   "source": [
    "n_blinks = 4\n",
    "test = [125, 17]\n",
    "for _ in 1:n_blinks\n",
    "    test = vcat(blink.(test)...)\n",
    "end\n",
    "test"
   ]
  },
  {
   "cell_type": "code",
   "execution_count": 35,
   "metadata": {},
   "outputs": [
    {
     "data": {
      "text/plain": [
       "235850"
      ]
     },
     "metadata": {},
     "output_type": "display_data"
    }
   ],
   "source": [
    "n_blinks = 25\n",
    "stones = initial_stones\n",
    "for _ in 1:n_blinks\n",
    "    stones = vcat(blink.(stones)...)\n",
    "end\n",
    "length(stones)"
   ]
  },
  {
   "cell_type": "markdown",
   "metadata": {},
   "source": [
    "## Part II"
   ]
  },
  {
   "cell_type": "code",
   "execution_count": 37,
   "metadata": {},
   "outputs": [
    {
     "data": {
      "text/plain": [
       "recurse_stones (generic function with 1 method)"
      ]
     },
     "metadata": {},
     "output_type": "display_data"
    }
   ],
   "source": [
    "MAX_BLINKS = 75\n",
    "@memoize function recurse_stones(stone::Int, n_blinks::Int)::Int\n",
    "    if n_blinks == MAX_BLINKS\n",
    "        return 1\n",
    "    end\n",
    "    new_stones = blink(stone)\n",
    "    return sum([recurse_stones(s, n_blinks + 1) for s in new_stones])\n",
    "end"
   ]
  },
  {
   "cell_type": "code",
   "execution_count": 38,
   "metadata": {},
   "outputs": [
    {
     "data": {
      "text/plain": [
       "279903140844645"
      ]
     },
     "metadata": {},
     "output_type": "display_data"
    }
   ],
   "source": [
    "sum(recurse_stones.(initial_stones, Ref(0)))"
   ]
  }
 ],
 "metadata": {
  "kernelspec": {
   "display_name": "Julia 1.11.1",
   "language": "julia",
   "name": "julia-1.11"
  },
  "language_info": {
   "file_extension": ".jl",
   "mimetype": "application/julia",
   "name": "julia",
   "version": "1.11.1"
  }
 },
 "nbformat": 4,
 "nbformat_minor": 2
}
