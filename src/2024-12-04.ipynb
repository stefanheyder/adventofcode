{
 "cells": [
  {
   "cell_type": "code",
   "execution_count": null,
   "metadata": {},
   "outputs": [
    {
     "ename": "UndefKeywordError",
     "evalue": "UndefKeywordError: keyword argument `dims` not assigned",
     "output_type": "error",
     "traceback": [
      "UndefKeywordError: keyword argument `dims` not assigned\n",
      "\n",
      "Stacktrace:\n",
      " [1] cat(A::Vector{Any})\n",
      "   @ Base ./abstractarray.jl:2084\n",
      " [2] top-level scope\n",
      "   @ ~/workspace/work/tools/adventofcode/src/jl_notebook_cell_df34fa98e69747e1a8f8a730347b8e2f_W2sZmlsZQ==.jl:1"
     ]
    }
   ],
   "source": []
  },
  {
   "cell_type": "code",
   "execution_count": 64,
   "metadata": {},
   "outputs": [],
   "source": [
    "arr = []\n",
    "open(\"../inputs/2024-12-04.txt\", \"r\") do file\n",
    "    for line in eachline(file)\n",
    "        chars = split(line, r\"\")\n",
    "        push!(arr, String.(chars))\n",
    "\tend\n",
    "end\n",
    "\n",
    "n = length(arr)\n",
    "m = length(arr[1])\n",
    "mat = Matrix{String}(undef, n,m)\n",
    "\n",
    "for i in 1:n\n",
    "    for j in 1:m\n",
    "        mat[i,j] = arr[i][j]\n",
    "    end\n",
    "end"
   ]
  },
  {
   "cell_type": "code",
   "execution_count": 65,
   "metadata": {},
   "outputs": [
    {
     "data": {
      "text/plain": [
       "2571"
      ]
     },
     "metadata": {},
     "output_type": "display_data"
    }
   ],
   "source": [
    "potential_mas_locations = [\n",
    "    [[1,0], [2,0], [3,0]],\n",
    "    [[1,1], [2,2], [3,3]],\n",
    "    [[0,1], [0,2], [0,3]],\n",
    "    [[-1, 1], [-2, 2], [-3, 3]],\n",
    "    [[-1,0], [-2,0], [-3,0]],\n",
    "    [[-1,-1], [-2,-2], [-3,-3]],\n",
    "    [[0,-1], [0,-2], [0,-3]],\n",
    "    [[1, -1], [2, -2], [3, -3]]\n",
    "]\n",
    "x_locations = findall.(x -> x == \"X\", arr)\n",
    "(n,) = size(arr)\n",
    "\n",
    "n_xmas = 0\n",
    "for (i, x_locs) in enumerate(x_locations)\n",
    "    for j in x_locs\n",
    "        for potential_loc in potential_mas_locations\n",
    "            mas_loc = potential_loc .+ [[i,j]]\n",
    "            try\n",
    "                is_M = mat[mas_loc[1][1], mas_loc[1][2]] == \"M\"\n",
    "                is_A = mat[mas_loc[2][1], mas_loc[2][2]] == \"A\"\n",
    "                is_S = mat[mas_loc[3][1], mas_loc[3][2]] == \"S\"\n",
    "                n_xmas += is_M * is_A * is_S\n",
    "            catch e \n",
    "            end\n",
    "        end\n",
    "    end\n",
    "end\n",
    "n_xmas"
   ]
  },
  {
   "cell_type": "code",
   "execution_count": null,
   "metadata": {},
   "outputs": [
    {
     "data": {
      "text/plain": [
       "1992"
      ]
     },
     "metadata": {},
     "output_type": "display_data"
    }
   ],
   "source": [
    "n_x_mas = 0\n",
    "MS = Set([\"M\", \"S\"])\n",
    "\n",
    "for i in 2:(n-1)\n",
    "    for j in 2:(n-1)\n",
    "        is_center_A = mat[i,j] == \"A\"\n",
    "\n",
    "        if !is_center_A\n",
    "            continue\n",
    "        end\n",
    "\n",
    "        diag_matches = Set([mat[i-1,j-1], mat[i+1,j+1]]) == MS\n",
    "        anti_diag_matches = Set([mat[i-1,j+1], mat[i+1,j-1]]) == MS\n",
    "\n",
    "        if diag_matches && anti_diag_matches\n",
    "            n_x_mas += 1\n",
    "        end\n",
    "    end\n",
    "end\n",
    "n_x_mas"
   ]
  }
 ],
 "metadata": {
  "kernelspec": {
   "display_name": "Julia 1.11.1",
   "language": "julia",
   "name": "julia-1.11"
  },
  "language_info": {
   "file_extension": ".jl",
   "mimetype": "application/julia",
   "name": "julia",
   "version": "1.11.1"
  }
 },
 "nbformat": 4,
 "nbformat_minor": 2
}
