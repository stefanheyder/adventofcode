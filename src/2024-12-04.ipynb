{
 "cells": [
  {
   "cell_type": "code",
   "execution_count": 44,
   "metadata": {},
   "outputs": [
    {
     "data": {
      "text/plain": [
       "2571"
      ]
     },
     "metadata": {},
     "output_type": "display_data"
    }
   ],
   "source": [
    "arr = []\n",
    "open(\"../inputs/2024-12-04.txt\", \"r\") do file\n",
    "    for line in eachline(file)\n",
    "        chars = split(line, r\"\")\n",
    "        push!(arr, chars)\n",
    "\tend\n",
    "end\n",
    "\n",
    "potential_mas_locations = [\n",
    "    [[1,0], [2,0], [3,0]],\n",
    "    [[1,1], [2,2], [3,3]],\n",
    "    [[0,1], [0,2], [0,3]],\n",
    "    [[-1, 1], [-2, 2], [-3, 3]],\n",
    "    [[-1,0], [-2,0], [-3,0]],\n",
    "    [[-1,-1], [-2,-2], [-3,-3]],\n",
    "    [[0,-1], [0,-2], [0,-3]],\n",
    "    [[1, -1], [2, -2], [3, -3]]\n",
    "]\n",
    "x_locations = findall.(x -> x == \"X\", arr)\n",
    "(n,) = size(arr)\n",
    "\n",
    "n_xmas = 0\n",
    "for (i, x_locs) in enumerate(x_locations)\n",
    "    for j in x_locs\n",
    "        for potential_loc in potential_mas_locations\n",
    "            mas_loc = potential_loc .+ [[i,j]]\n",
    "            try\n",
    "                is_M = arr[mas_loc[1][1]][mas_loc[1][2]] == \"M\"\n",
    "                is_A = arr[mas_loc[2][1]][mas_loc[2][2]] == \"A\"\n",
    "                is_S = arr[mas_loc[3][1]][mas_loc[3][2]] == \"S\"\n",
    "                n_xmas += is_M * is_A * is_S\n",
    "            catch e \n",
    "            end\n",
    "        end\n",
    "    end\n",
    "end\n",
    "n_xmas"
   ]
  },
  {
   "cell_type": "code",
   "execution_count": 40,
   "metadata": {},
   "outputs": [
    {
     "data": {
      "text/plain": [
       "3-element Vector{Vector{Int64}}:\n",
       " [1, 0]\n",
       " [2, 0]\n",
       " [3, 0]"
      ]
     },
     "metadata": {},
     "output_type": "display_data"
    }
   ],
   "source": [
    "potential_mas_locations[1]"
   ]
  }
 ],
 "metadata": {
  "kernelspec": {
   "display_name": "Julia 1.11.1",
   "language": "julia",
   "name": "julia-1.11"
  },
  "language_info": {
   "file_extension": ".jl",
   "mimetype": "application/julia",
   "name": "julia",
   "version": "1.11.1"
  }
 },
 "nbformat": 4,
 "nbformat_minor": 2
}
