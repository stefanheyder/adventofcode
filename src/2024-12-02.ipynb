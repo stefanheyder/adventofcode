{
 "cells": [
  {
   "cell_type": "markdown",
   "metadata": {},
   "source": [
    "# 2024-12-02"
   ]
  },
  {
   "cell_type": "markdown",
   "metadata": {},
   "source": [
    "## Part I"
   ]
  },
  {
   "cell_type": "code",
   "execution_count": 70,
   "metadata": {},
   "outputs": [
    {
     "data": {
      "text/plain": [
       "526"
      ]
     },
     "metadata": {},
     "output_type": "display_data"
    }
   ],
   "source": [
    "reports = []\n",
    "open(\"../inputs/2024-12-02.txt\", \"r\") do file\n",
    "    for line in eachline(file)\n",
    "        levels = split(line, r\"\\s+\")\n",
    "        push!(reports, parse.(Int, levels))\n",
    "\tend\n",
    "end\n",
    "\n",
    "function n_diffs_in_range(arr)\n",
    "    return sum(x in [1,2,3] for x in arr)\n",
    "end\n",
    "\n",
    "function is_safe(report)\n",
    "    return n_diffs_in_range(diff(report)) ==  length(report) - 1\n",
    "end\n",
    "\n",
    "sum(is_safe.(reports)) + sum(is_safe.(-reports))"
   ]
  },
  {
   "cell_type": "markdown",
   "metadata": {},
   "source": [
    "## Part II"
   ]
  },
  {
   "cell_type": "code",
   "execution_count": null,
   "metadata": {},
   "outputs": [
    {
     "data": {
      "text/plain": [
       "566"
      ]
     },
     "metadata": {},
     "output_type": "display_data"
    }
   ],
   "source": [
    "function is_safe_if_one_removed(report)\n",
    "    # add non-valid increment for later iteration\n",
    "    n = length(report)\n",
    "\n",
    "    valid_increments = [x in [1,2,3] for x in diff(report)]\n",
    "    n_valid_increments = sum(valid_increments)\n",
    "\n",
    "    if n_valid_increments == n - 1\n",
    "        return true\n",
    "    end\n",
    "\n",
    "    # special case for first / last element\n",
    "    if n_valid_increments == n - 2 && (!valid_increments[1] || !valid_increments[end])\n",
    "        return true\n",
    "    end\n",
    "\n",
    "    for (left, middle, right) in zip(report[1:end-2], report[2:end-1], report[3:end])\n",
    "        n_before = (middle - left in [1,2,3]) + (right - middle in [1,2,3])\n",
    "        n_after = right - left in [1,2,3]\n",
    "\n",
    "        if n_valid_increments + n_after - n_before == n - 2\n",
    "            return true\n",
    "        end\n",
    "    end\n",
    "\n",
    "    return false\n",
    "end\n",
    "\n",
    "sum(is_safe_if_one_removed.(reports)) + sum(is_safe_if_one_removed.(-reports))"
   ]
  }
 ],
 "metadata": {
  "kernelspec": {
   "display_name": "Julia 1.11.1",
   "language": "julia",
   "name": "julia-1.11"
  },
  "language_info": {
   "file_extension": ".jl",
   "mimetype": "application/julia",
   "name": "julia",
   "version": "1.11.1"
  }
 },
 "nbformat": 4,
 "nbformat_minor": 2
}
