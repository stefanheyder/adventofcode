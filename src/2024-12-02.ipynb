{
 "cells": [
  {
   "cell_type": "markdown",
   "metadata": {},
   "source": [
    "# 2024-12-02"
   ]
  },
  {
   "cell_type": "markdown",
   "metadata": {},
   "source": [
    "## First part"
   ]
  },
  {
   "cell_type": "code",
   "execution_count": 11,
   "metadata": {},
   "outputs": [
    {
     "data": {
      "text/plain": [
       "526"
      ]
     },
     "metadata": {},
     "output_type": "display_data"
    }
   ],
   "source": [
    "reports = []\n",
    "open(\"../inputs/2024-12-02.txt\", \"r\") do file\n",
    "    for line in eachline(file)\n",
    "        levels = split(line, r\"\\s+\")\n",
    "        push!(reports, parse.(Int, levels))\n",
    "\tend\n",
    "end\n",
    "\n",
    "function is_safe(report)\n",
    "    is_in_or_decreasing = all(x -> x > 0, diff(report)) || all(x -> x < 0, diff(report)) \n",
    "    are_diffs_in_range = all(x -> x in [-3,-2,-1,1,2,3], diff(report))\n",
    "\n",
    "    return is_in_or_decreasing && are_diffs_in_range\n",
    "end\n",
    "\n",
    "sum(is_safe.(reports))"
   ]
  }
 ],
 "metadata": {
  "kernelspec": {
   "display_name": "Julia 1.11.1",
   "language": "julia",
   "name": "julia-1.11"
  },
  "language_info": {
   "file_extension": ".jl",
   "mimetype": "application/julia",
   "name": "julia",
   "version": "1.11.1"
  }
 },
 "nbformat": 4,
 "nbformat_minor": 2
}
