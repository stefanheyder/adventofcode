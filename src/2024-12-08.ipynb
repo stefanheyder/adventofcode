{
 "cells": [
  {
   "cell_type": "markdown",
   "metadata": {},
   "source": [
    "# 2024-12-08"
   ]
  },
  {
   "cell_type": "markdown",
   "metadata": {},
   "source": [
    "## Data"
   ]
  },
  {
   "cell_type": "code",
   "execution_count": 1,
   "metadata": {},
   "outputs": [],
   "source": [
    "lines = open(\"../inputs/2024-12-08.txt\", \"r\") do file\n",
    "    readlines(file)\n",
    "end\n",
    "n = length(lines)\n",
    "m = length(lines[1])\n",
    "\n",
    "mat = Matrix{Char}(undef, n, m)\n",
    "for i in 1:n\n",
    "    for j in 1:m\n",
    "        mat[i,j] = lines[i][j]\n",
    "    end\n",
    "end"
   ]
  },
  {
   "cell_type": "markdown",
   "metadata": {},
   "source": [
    "## Part I"
   ]
  },
  {
   "cell_type": "code",
   "execution_count": 25,
   "metadata": {},
   "outputs": [
    {
     "data": {
      "text/plain": [
       "280"
      ]
     },
     "metadata": {},
     "output_type": "display_data"
    }
   ],
   "source": [
    "using Combinatorics\n",
    "\n",
    "antinodes = []\n",
    "\n",
    "for f in [f for f in unique(mat) if f != '.']\n",
    "    for (l1, l2) in collect(combinations(findall(x -> x == f, mat), 2))\n",
    "        append!(antinodes, [loc for loc in (2 * l1 - l2, 2 * l2 - l1) if checkbounds(Bool, mat, loc)])\n",
    "    end\n",
    "end\n",
    "\n",
    "length(unique(antinodes))"
   ]
  },
  {
   "cell_type": "markdown",
   "metadata": {},
   "source": [
    "## Part II"
   ]
  },
  {
   "cell_type": "code",
   "execution_count": 28,
   "metadata": {},
   "outputs": [
    {
     "data": {
      "text/plain": [
       "958"
      ]
     },
     "metadata": {},
     "output_type": "display_data"
    }
   ],
   "source": [
    "antinodes = []\n",
    "\n",
    "for f in [f for f in unique(mat) if f != '.']\n",
    "    for (l1, l2) in collect(combinations(findall(x -> x == f, mat), 2))\n",
    "        diff = l2 - l1\n",
    "        append!(antinodes, [loc for loc in [l1 + k * diff for k in (-n:n)] if checkbounds(Bool, mat, loc)])\n",
    "    end\n",
    "end\n",
    "\n",
    "length(unique(antinodes))"
   ]
  }
 ],
 "metadata": {
  "kernelspec": {
   "display_name": "Julia 1.11.1",
   "language": "julia",
   "name": "julia-1.11"
  },
  "language_info": {
   "file_extension": ".jl",
   "mimetype": "application/julia",
   "name": "julia",
   "version": "1.11.1"
  }
 },
 "nbformat": 4,
 "nbformat_minor": 2
}
